{
 "cells": [
  {
   "cell_type": "code",
   "execution_count": 5,
   "id": "9505975f",
   "metadata": {},
   "outputs": [],
   "source": [
    "import csv\n",
    "\n",
    "input_file = 'isd-history.csv'\n",
    "output_file = 'qualified.csv'\n",
    "\n",
    "with open(input_file, 'r', newline='') as infile, open(output_file, 'w', newline='') as outfile:\n",
    "    reader = csv.DictReader(infile)\n",
    "    writer = csv.DictWriter(outfile, fieldnames=reader.fieldnames)\n",
    "    \n",
    "    writer.writeheader()\n",
    "    \n",
    "    for row in reader:\n",
    "        if int(row['BEGIN']) < 20140000 and int(row['END']) > 20240000:\n",
    "            writer.writerow(row)\n"
   ]
  },
  {
   "cell_type": "code",
   "execution_count": 8,
   "id": "69f2c7e2",
   "metadata": {},
   "outputs": [],
   "source": [
    "import csv\n",
    "import random\n",
    "\n",
    "input_file = 'qualified.csv'\n",
    "output_file = 'random_station_id.txt'\n",
    "\n",
    "with open(input_file, 'r', newline='') as infile:\n",
    "    reader = csv.DictReader(infile)\n",
    "    rows = list(reader)  # Convert reader object to a list of dictionaries\n",
    "\n",
    "    random_rows = random.sample(rows, 10)\n",
    "\n",
    "# Combine columns 'USAF' and 'WBAN' into a new column 'station_id' for selected rows\n",
    "combined_rows = [{'station_id': row['USAF'] + '-' + row['WBAN']} for row in random_rows]\n",
    "\n",
    "# Write the values of 'station_id' column to a new txt file, separated by newlines\n",
    "with open(output_file, 'w') as outfile:\n",
    "    for row in combined_rows:\n",
    "        outfile.write(row['station_id'] + '\\n')"
   ]
  }
 ],
 "metadata": {
  "kernelspec": {
   "display_name": "Python 3 (ipykernel)",
   "language": "python",
   "name": "python3"
  },
  "language_info": {
   "codemirror_mode": {
    "name": "ipython",
    "version": 3
   },
   "file_extension": ".py",
   "mimetype": "text/x-python",
   "name": "python",
   "nbconvert_exporter": "python",
   "pygments_lexer": "ipython3",
   "version": "3.11.4"
  }
 },
 "nbformat": 4,
 "nbformat_minor": 5
}
