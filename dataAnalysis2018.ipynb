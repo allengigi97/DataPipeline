{
 "cells": [
  {
   "cell_type": "code",
   "execution_count": 0,
   "metadata": {
    "application/vnd.databricks.v1+cell": {
     "cellMetadata": {
      "byteLimit": 2048000,
      "rowLimit": 10000
     },
     "inputWidgets": {},
     "nuid": "3423d586-b9d1-4355-9182-5b04b880c71d",
     "showTitle": false,
     "title": ""
    }
   },
   "outputs": [],
   "source": [
    "import pyspark as sp\n",
    "from pyspark.sql import SparkSession\n",
    "from pyspark.sql.functions import col,date_format,concat,substring,lit,lpad,to_timestamp,when\n",
    "import  pandas as pd\n",
    "import matplotlib.pyplot as plt\n",
    "from pyspark.sql.functions import month, dayofmonth, to_date"
   ]
  },
  {
   "cell_type": "code",
   "execution_count": 0,
   "metadata": {
    "application/vnd.databricks.v1+cell": {
     "cellMetadata": {
      "byteLimit": 2048000,
      "rowLimit": 10000
     },
     "inputWidgets": {},
     "nuid": "5841e778-31b8-4b91-9f0d-cb056a165bf0",
     "showTitle": false,
     "title": ""
    }
   },
   "outputs": [],
   "source": [
    "spark = SparkSession.builder.getOrCreate()"
   ]
  },
  {
   "cell_type": "code",
   "execution_count": 0,
   "metadata": {
    "application/vnd.databricks.v1+cell": {
     "cellMetadata": {
      "byteLimit": 2048000,
      "rowLimit": 10000
     },
     "inputWidgets": {},
     "nuid": "d3aa5a3b-161f-4b2e-8106-c46e2bfa7bc8",
     "showTitle": false,
     "title": ""
    }
   },
   "outputs": [],
   "source": [
    "df=spark.read.option(\"header\",\"true\").option(\"inferSchema\", \"true\").csv(\"dbfs:/FileStore/2018_039620.csv\")"
   ]
  },
  {
   "cell_type": "code",
   "execution_count": 0,
   "metadata": {
    "application/vnd.databricks.v1+cell": {
     "cellMetadata": {
      "byteLimit": 2048000,
      "rowLimit": 10000
     },
     "inputWidgets": {},
     "nuid": "13cce414-ad7f-457e-86d0-a97f5c05e78c",
     "showTitle": false,
     "title": ""
    }
   },
   "outputs": [],
   "source": [
    "df.display(100)"
   ]
  },
  {
   "cell_type": "code",
   "execution_count": 0,
   "metadata": {
    "application/vnd.databricks.v1+cell": {
     "cellMetadata": {
      "byteLimit": 2048000,
      "rowLimit": 10000
     },
     "inputWidgets": {},
     "nuid": "4944c412-75ff-479d-9a0b-6352ed4b15d4",
     "showTitle": false,
     "title": ""
    }
   },
   "outputs": [],
   "source": [
    "df = df.withColumn(\"lat\", df[\"lat\"] / 1000)\n"
   ]
  },
  {
   "cell_type": "code",
   "execution_count": 0,
   "metadata": {
    "application/vnd.databricks.v1+cell": {
     "cellMetadata": {
      "byteLimit": 2048000,
      "rowLimit": 10000
     },
     "inputWidgets": {},
     "nuid": "c5e4db6e-6b60-4552-b789-3ce292afd8de",
     "showTitle": false,
     "title": ""
    }
   },
   "outputs": [],
   "source": [
    "df = df.withColumn(\"long\", df[\"long\"] / 1000)"
   ]
  },
  {
   "cell_type": "code",
   "execution_count": 0,
   "metadata": {
    "application/vnd.databricks.v1+cell": {
     "cellMetadata": {
      "byteLimit": 2048000,
      "rowLimit": 10000
     },
     "inputWidgets": {},
     "nuid": "eb8d1af0-bf2a-4ff6-bc94-eb516088a086",
     "showTitle": false,
     "title": ""
    }
   },
   "outputs": [],
   "source": [
    "df = df.withColumn(\"airtemp\", df[\"airtemp\"] / 10)"
   ]
  },
  {
   "cell_type": "code",
   "execution_count": 0,
   "metadata": {
    "application/vnd.databricks.v1+cell": {
     "cellMetadata": {
      "byteLimit": 2048000,
      "rowLimit": 10000
     },
     "inputWidgets": {},
     "nuid": "87f87bc1-1ee4-4f1e-ae2e-9e03662b08d4",
     "showTitle": false,
     "title": ""
    }
   },
   "outputs": [],
   "source": [
    "df = df.withColumn(\"dewpointtemp\", df[\"dewpointtemp\"] / 10)"
   ]
  },
  {
   "cell_type": "code",
   "execution_count": 0,
   "metadata": {
    "application/vnd.databricks.v1+cell": {
     "cellMetadata": {
      "byteLimit": 2048000,
      "rowLimit": 10000
     },
     "inputWidgets": {},
     "nuid": "f40cd8ad-f82e-4487-a2b7-5fc6a9da7b62",
     "showTitle": false,
     "title": ""
    }
   },
   "outputs": [],
   "source": [
    "df = df.withColumn(\"atmpress\", df[\"atmpress\"] / 10)"
   ]
  },
  {
   "cell_type": "code",
   "execution_count": 0,
   "metadata": {
    "application/vnd.databricks.v1+cell": {
     "cellMetadata": {
      "byteLimit": 2048000,
      "rowLimit": 10000
     },
     "inputWidgets": {},
     "nuid": "20a66113-3d25-40e6-9b70-2816cadb2ae6",
     "showTitle": false,
     "title": ""
    }
   },
   "outputs": [],
   "source": [
    "df = df.withColumn(\"date\", \n",
    "                   concat(substring(col(\"date\"), 1, 4), \n",
    "                          lit(\"-\"), \n",
    "                          substring(col(\"date\"), 5, 2), \n",
    "                          lit(\"-\"), \n",
    "                          substring(col(\"date\"), 7, 2)))"
   ]
  },
  {
   "cell_type": "code",
   "execution_count": 0,
   "metadata": {
    "application/vnd.databricks.v1+cell": {
     "cellMetadata": {
      "byteLimit": 2048000,
      "rowLimit": 10000
     },
     "inputWidgets": {},
     "nuid": "a238273c-1d7c-4346-9dfb-830497385450",
     "showTitle": false,
     "title": ""
    }
   },
   "outputs": [],
   "source": [
    "df = df.withColumn(\"time\", lpad(col(\"time\"), 4, \"0\"))"
   ]
  },
  {
   "cell_type": "code",
   "execution_count": 0,
   "metadata": {
    "application/vnd.databricks.v1+cell": {
     "cellMetadata": {
      "byteLimit": 2048000,
      "rowLimit": 10000
     },
     "inputWidgets": {},
     "nuid": "717a2814-ec7b-4de3-a766-1130fc3eb7a5",
     "showTitle": false,
     "title": ""
    }
   },
   "outputs": [],
   "source": [
    "df = df.withColumn(\"time\", \n",
    "                   concat(substring(col(\"time\"), 1, 2), \n",
    "                          lit(\":\"),\n",
    "                          substring(col(\"time\"), 3, 2)))"
   ]
  },
  {
   "cell_type": "code",
   "execution_count": 0,
   "metadata": {
    "application/vnd.databricks.v1+cell": {
     "cellMetadata": {
      "byteLimit": 2048000,
      "rowLimit": 10000
     },
     "inputWidgets": {},
     "nuid": "04aa3998-2a3b-4bb0-a4c8-f5d15ae45ce2",
     "showTitle": false,
     "title": ""
    }
   },
   "outputs": [],
   "source": [
    "df = df.withColumn(\"timestamp\", to_timestamp(concat(col(\"date\"), lit(\" \"), col(\"time\")), \"yyyy-MM-dd HH:mm\"))"
   ]
  },
  {
   "cell_type": "code",
   "execution_count": 0,
   "metadata": {
    "application/vnd.databricks.v1+cell": {
     "cellMetadata": {
      "byteLimit": 2048000,
      "rowLimit": 10000
     },
     "inputWidgets": {},
     "nuid": "3f8b8d69-c6fc-4dc5-a2af-15ff20a74026",
     "showTitle": false,
     "title": ""
    }
   },
   "outputs": [],
   "source": [
    "def get_season(month):\n",
    "    if 3 <= month <= 5:\n",
    "        return \"Spring\"\n",
    "    elif 6 <= month <= 8:\n",
    "        return \"Summer\"\n",
    "    elif 9 <= month <= 11:\n",
    "        return \"Autumn\"\n",
    "    else:\n",
    "        return \"Winter\""
   ]
  },
  {
   "cell_type": "code",
   "execution_count": 0,
   "metadata": {
    "application/vnd.databricks.v1+cell": {
     "cellMetadata": {
      "byteLimit": 2048000,
      "rowLimit": 10000
     },
     "inputWidgets": {},
     "nuid": "77b92f7c-cb75-46a7-b6d6-5628254b88a4",
     "showTitle": false,
     "title": ""
    }
   },
   "outputs": [],
   "source": [
    "df = df.withColumn(\"month\", col(\"date\").substr(6, 2).cast(\"int\"))\n",
    "df = df.withColumn(\"season\", when((col(\"month\") >= 3) & (col(\"month\") <= 5), \"Spring\")\n",
    "                              .when((col(\"month\") >= 6) & (col(\"month\") <= 8), \"Summer\")\n",
    "                              .when((col(\"month\") >= 9) & (col(\"month\") <= 11), \"Autumn\")\n",
    "                              .otherwise(\"Winter\"))"
   ]
  },
  {
   "cell_type": "code",
   "execution_count": 0,
   "metadata": {
    "application/vnd.databricks.v1+cell": {
     "cellMetadata": {
      "byteLimit": 2048000,
      "rowLimit": 10000
     },
     "inputWidgets": {},
     "nuid": "5443bdcc-d6f2-4067-ae08-e039d2bf021b",
     "showTitle": false,
     "title": ""
    }
   },
   "outputs": [],
   "source": [
    "df.display(100)"
   ]
  },
  {
   "cell_type": "code",
   "execution_count": 0,
   "metadata": {
    "application/vnd.databricks.v1+cell": {
     "cellMetadata": {
      "byteLimit": 2048000,
      "rowLimit": 10000
     },
     "inputWidgets": {},
     "nuid": "d59f7358-db64-4db0-b3a7-a6137ab90e2d",
     "showTitle": false,
     "title": ""
    }
   },
   "outputs": [],
   "source": [
    "season_day_agg = df.groupBy(\"season\", \"date\").agg(\n",
    "    {\"airtemp\": \"avg\", \"visdist\": \"avg\", \"winddir\":\"avg\",\"atmpress\":\"avg\",}  # Add other attributes as needed\n",
    ")\n",
    "\n",
    "\n",
    "# Sort the aggregated DataFrame by season, date\n",
    "season_day_agg_sorted = season_day_agg.orderBy(\"season\", \"date\")\n",
    "\n",
    "season_day_agg_sorted.display()"
   ]
  },
  {
   "cell_type": "code",
   "execution_count": 0,
   "metadata": {
    "application/vnd.databricks.v1+cell": {
     "cellMetadata": {
      "byteLimit": 2048000,
      "rowLimit": 10000
     },
     "inputWidgets": {},
     "nuid": "36c10943-49ea-462b-a9c1-8cb30b2c3c43",
     "showTitle": false,
     "title": ""
    }
   },
   "outputs": [],
   "source": [
    "season_day_pd = season_day_agg_sorted.toPandas()\n",
    "season_day_pd.display()"
   ]
  },
  {
   "cell_type": "code",
   "execution_count": 0,
   "metadata": {
    "application/vnd.databricks.v1+cell": {
     "cellMetadata": {
      "byteLimit": 2048000,
      "rowLimit": 10000
     },
     "inputWidgets": {},
     "nuid": "bb18f58d-658b-481e-ba11-5f2fa0e49981",
     "showTitle": false,
     "title": ""
    }
   },
   "outputs": [],
   "source": [
    "#Plotting\n",
    "for attribute in [\"avg(airtemp)\", \"avg(visdist)\", \"avg(atmpress)\", \"avg(winddir)\"]:\n",
    "    plt.figure(figsize=(10, 6))\n",
    "    for season in season_day_pd[\"season\"].unique():\n",
    "        season_data = season_day_pd[season_day_pd[\"season\"] == season]\n",
    "        plt.plot(season_data[\"date\"], season_data[attribute], label=f\"{season} - {attribute.split('(')[1][:-1]}\")\n",
    "    plt.xlabel(\"Date\")\n",
    "    plt.ylabel(\"Value\")\n",
    "    plt.title(f\"Seasonal Variation: {attribute.split('(')[1][:-1]}\")\n",
    "    plt.legend()\n",
    "    plt.show()"
   ]
  },
  {
   "cell_type": "code",
   "execution_count": 0,
   "metadata": {
    "application/vnd.databricks.v1+cell": {
     "cellMetadata": {
      "byteLimit": 2048000,
      "rowLimit": 10000
     },
     "inputWidgets": {},
     "nuid": "df56b5cd-e4ac-4971-a518-f7ac5a1d70f6",
     "showTitle": false,
     "title": ""
    }
   },
   "outputs": [],
   "source": [
    "attributes = [\"avg(airtemp)\", \"avg(visdist)\", \"avg(atmpress)\", \"avg(winddir)\"]\n",
    "seasons = season_day_pd[\"season\"].unique()\n",
    "\n",
    "# Create subplots\n",
    "fig, axes = plt.subplots(len(attributes), len(seasons), figsize=(15, 15))\n",
    "\n",
    "# Iterate over attributes\n",
    "for i, attribute in enumerate(attributes):\n",
    "    # Iterate over seasons\n",
    "    for j, season in enumerate(seasons):\n",
    "        # Filter data for the current attribute and season\n",
    "        attribute_season_data = season_day_pd[(season_day_pd[\"season\"] == season)]\n",
    "        \n",
    "        # Plot the attribute for the current season\n",
    "        axes[i, j].plot(attribute_season_data[\"date\"], attribute_season_data[attribute])\n",
    "        axes[i, j].set_xlabel(\"Date\")\n",
    "        axes[i, j].set_ylabel(f\"{attribute.split('(')[1][:-1]}\")\n",
    "        axes[i, j].set_title(f\"{season} - {attribute.split('(')[1][:-1]}\")\n",
    "\n",
    "# Adjust layout and display the plots\n",
    "plt.tight_layout()\n",
    "plt.show()"
   ]
  }
 ],
 "metadata": {
  "application/vnd.databricks.v1+notebook": {
   "dashboards": [],
   "language": "python",
   "notebookMetadata": {
    "pythonIndentUnit": 4
   },
   "notebookName": "dataAnalysis2018",
   "widgets": {}
  },
  "kernelspec": {
   "display_name": "base",
   "language": "python",
   "name": "python3"
  },
  "language_info": {
   "codemirror_mode": {
    "name": "ipython",
    "version": 3
   },
   "file_extension": ".py",
   "mimetype": "text/x-python",
   "name": "python",
   "nbconvert_exporter": "python",
   "pygments_lexer": "ipython3",
   "version": "3.11.5"
  }
 },
 "nbformat": 4,
 "nbformat_minor": 0
}
